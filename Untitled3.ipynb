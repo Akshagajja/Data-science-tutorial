{
  "nbformat": 4,
  "nbformat_minor": 0,
  "metadata": {
    "colab": {
      "provenance": [],
      "authorship_tag": "ABX9TyMCl8vWYoBIPjcOTsb9vz8/",
      "include_colab_link": true
    },
    "kernelspec": {
      "name": "python3",
      "display_name": "Python 3"
    },
    "language_info": {
      "name": "python"
    }
  },
  "cells": [
    {
      "cell_type": "markdown",
      "metadata": {
        "id": "view-in-github",
        "colab_type": "text"
      },
      "source": [
        "<a href=\"https://colab.research.google.com/github/Akshagajja/Data-science-tutorial/blob/main/Untitled3.ipynb\" target=\"_parent\"><img src=\"https://colab.research.google.com/assets/colab-badge.svg\" alt=\"Open In Colab\"/></a>"
      ]
    },
    {
      "cell_type": "code",
      "execution_count": null,
      "metadata": {
        "id": "BBvzdg2OKYtw"
      },
      "outputs": [],
      "source": []
    },
    {
      "cell_type": "markdown",
      "source": [
        "**merging dataframe with multiple key values**\n",
        "\n"
      ],
      "metadata": {
        "id": "hfcgyIUUKZhA"
      }
    },
    {
      "cell_type": "code",
      "source": [
        "import pandas as pd\n",
        "data1 = {\n",
        "    'key': ['k0', 'k1', 'k2', 'k3'],\n",
        "    'key1': ['k0', 'k1', 'k0', 'k1'],\n",
        "    'name': ['jimin', 'jhope', 'jungkook', 'suge'],\n",
        "    'age': ['25', '27', '28', '24']\n",
        "}\n",
        "\n",
        "data2 = {\n",
        "    'key': ['k0', 'k1', 'k2', 'k3'],\n",
        "    'key1': ['k0', 'k1', 'k0', 'k1'],\n",
        "    'address': ['korea', 'uk', 'london', 'maldives'],\n",
        "    'Qualification': ['btech', 'ms', 'MSc', 'BA']\n",
        "}\n",
        "\n",
        "df = pd.DataFrame(data1)\n",
        "df1 = pd.DataFrame(data2)  # Corrected assignment\n",
        "\n",
        "print(df, \"\\n\\n\", df1)\n"
      ],
      "metadata": {
        "colab": {
          "base_uri": "https://localhost:8080/"
        },
        "id": "HKR645bYLBYx",
        "outputId": "434c0c3e-a324-44c1-aa42-dc5379586bb1"
      },
      "execution_count": 1,
      "outputs": [
        {
          "output_type": "stream",
          "name": "stdout",
          "text": [
            "  key key1      name age\n",
            "0  k0   k0     jimin  25\n",
            "1  k1   k1     jhope  27\n",
            "2  k2   k0  jungkook  28\n",
            "3  k3   k1      suge  24 \n",
            "\n",
            "   key key1   address Qualification\n",
            "0  k0   k0     korea         btech\n",
            "1  k1   k1        uk            ms\n",
            "2  k2   k0    london           MSc\n",
            "3  k3   k1  maldives            BA\n"
          ]
        }
      ]
    },
    {
      "cell_type": "code",
      "source": [
        "# Merging the two dataframes on 'key' and 'key1'\n",
        "res1 = pd.merge(df, df1, on=['key', 'key1'])\n",
        "\n",
        "print(res1)  # Corrected to res1\n"
      ],
      "metadata": {
        "colab": {
          "base_uri": "https://localhost:8080/"
        },
        "id": "CBSJmhgxLudp",
        "outputId": "8f64706d-c2cb-4e56-f298-6f3c0f8caa6e"
      },
      "execution_count": 3,
      "outputs": [
        {
          "output_type": "stream",
          "name": "stdout",
          "text": [
            "  key key1      name age   address Qualification\n",
            "0  k0   k0     jimin  25     korea         btech\n",
            "1  k1   k1     jhope  27        uk            ms\n",
            "2  k2   k0  jungkook  28    london           MSc\n",
            "3  k3   k1      suge  24  maldives            BA\n"
          ]
        }
      ]
    },
    {
      "cell_type": "code",
      "source": [
        "import pandas as pd\n",
        "\n",
        "df1 = pd.DataFrame({'name': ['aksha','rosie'], 'email': ['aksha@gmail.com','rosie@gmail.com'], 'city': ['hyderabad','delhi'], 'address': ['2-6-8','4-5-6']})\n",
        "df2 = pd.DataFrame({'name': ['lisa','jennie'], 'email': ['lisa@gmail.com','jennie@gmail.com'], 'city': ['hyderabad','chennai'], 'address': ['2-6-9','5-6-7']})\n",
        "\n",
        "result = pd.merge(df1, df2, on='city',how='outer',indicator=True)\n",
        "\n",
        "print(result)\n"
      ],
      "metadata": {
        "colab": {
          "base_uri": "https://localhost:8080/"
        },
        "id": "KYxMbnIGMmJn",
        "outputId": "b5ef2ad4-7810-4e7a-c9ba-a079697d840f"
      },
      "execution_count": 4,
      "outputs": [
        {
          "output_type": "stream",
          "name": "stdout",
          "text": [
            "  name_x          email_x       city address_x  name_y           email_y  \\\n",
            "0  aksha  aksha@gmail.com  hyderabad     2-6-8    lisa    lisa@gmail.com   \n",
            "1  rosie  rosie@gmail.com      delhi     4-5-6     NaN               NaN   \n",
            "2    NaN              NaN    chennai       NaN  jennie  jennie@gmail.com   \n",
            "\n",
            "  address_y      _merge  \n",
            "0     2-6-9        both  \n",
            "1       NaN   left_only  \n",
            "2     5-6-7  right_only  \n"
          ]
        }
      ]
    },
    {
      "cell_type": "markdown",
      "source": [
        "**Another Method for Merging**"
      ],
      "metadata": {
        "id": "MDA4thkoMtj5"
      }
    },
    {
      "cell_type": "code",
      "source": [
        "import pandas as pd\n",
        "\n",
        "df1 = pd.DataFrame({'name': ['aksha','rosie'], 'email': ['aksha@gmail.com','rosie@gmail.com'], 'city': ['hyderabad','delhi'], 'address': ['2-6-8','4-5-6']})\n",
        "df2 = pd.DataFrame({'name': ['lisa','jennie'], 'email': ['lisa@gmail.com','jennie@gmail.com'], 'city': ['hyderabad','chennai'], 'address': ['2-6-9','5-6-7']})\n",
        "\n",
        "result = pd.merge(df1, df2, on='city',how='outer',indicator=True,suffixes=['_right','_left'])\n",
        "\n",
        "print(result)\n"
      ],
      "metadata": {
        "colab": {
          "base_uri": "https://localhost:8080/"
        },
        "id": "AinQ8drnM9kK",
        "outputId": "c8067938-40c7-464d-8b20-fcf743941cb3"
      },
      "execution_count": 5,
      "outputs": [
        {
          "output_type": "stream",
          "name": "stdout",
          "text": [
            "  name_right      email_right       city address_right name_left  \\\n",
            "0      aksha  aksha@gmail.com  hyderabad         2-6-8      lisa   \n",
            "1      rosie  rosie@gmail.com      delhi         4-5-6       NaN   \n",
            "2        NaN              NaN    chennai           NaN    jennie   \n",
            "\n",
            "         email_left address_left      _merge  \n",
            "0    lisa@gmail.com        2-6-9        both  \n",
            "1               NaN          NaN   left_only  \n",
            "2  jennie@gmail.com        5-6-7  right_only  \n"
          ]
        }
      ]
    }
  ]
}